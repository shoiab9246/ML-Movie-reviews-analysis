{
 "cells": [
  {
   "cell_type": "markdown",
   "metadata": {},
   "source": [
    "# Problem Scenario\n",
    "\n",
    "We need to train a model to recognise the emotion of the movie review as positive or negative. This is a binary classification problem. The dataset used here is known as 'Polarity Dataset'. This dataset has following properties:\n",
    "\n",
    "* It only comprises of English reviews.\n",
    "* The text is in lowercase.\n",
    "* There is whitespace around punctuations like periods, commas, and brackets.\n",
    "* Text has been split into one sentence per line.\n",
    "\n",
    "This problem is approached in three stages:\n",
    "\n",
    "&nbsp; &nbsp; **A. Data Preprocessing**\n",
    "\n",
    "&nbsp; &nbsp; **B. Bag Of Words Representation**\n",
    "\n",
    "&nbsp; &nbsp; **C. Sentiment Analysis Model**\n",
    "\n",
    "\n",
    "# A. DATA PREPROCESSING\n",
    "\n",
    "This stage involves the following steps:\n",
    "\n",
    "* Separation of data into training and test set.\n",
    "* Loading and cleaning the data.\n",
    "* Defining a vocabulary of preferred words.\n",
    "\n",
    "## A.1. Training and Testing set\n",
    "\n",
    "The dataset contains 1000 positive and 1000 negative reviews. Among them, 900 positive and 900 negative reviews are used as training sets and the remaining 100 positive and 100 negative reviews are used as test data."
   ]
  },
  {
   "cell_type": "code",
   "execution_count": 1,
   "metadata": {},
   "outputs": [],
   "source": [
    "train_set_pos_path = \"Data/Training Data/pos/\"\n",
    "train_set_neg_path = \"Data/Training Data/neg/\"\n",
    "\n",
    "test_set_pos_path = \"Data/Test Data/pos/\"\n",
    "test_set_neg_path = \"Data/Test Data/neg/\"\n"
   ]
  },
  {
   "cell_type": "markdown",
   "metadata": {},
   "source": [
    "## A.2. Load the file\n",
    "\n",
    "The **load_file** method helps to load the content of a file into memory."
   ]
  },
  {
   "cell_type": "code",
   "execution_count": 2,
   "metadata": {},
   "outputs": [],
   "source": [
    "def load_file(filepath):\n",
    "    file = open(filepath, 'r')  # open the file in the read only mode\n",
    "    text = file.read()          # read the contents of the file\n",
    "    file.close()                # close the file \n",
    "    return text"
   ]
  },
  {
   "cell_type": "markdown",
   "metadata": {},
   "source": [
    "## A.2. Clean the File\n",
    "\n",
    "The **clean_file** method  helps to turn the contents of the file into clean tokens. The following methods are employed in this project to generate clean tokens.\n",
    "\n",
    "* Split on white space.\n",
    "* Remove all the punctuations.\n",
    "* Remove all words that does not purely consist of alphabetic characters.\n",
    "    (after this step, we are only left with alphabetic tokens)\n",
    "* Remove all stop words.\n",
    "* Remove all words with small length (length <= 1 character)."
   ]
  },
  {
   "cell_type": "code",
   "execution_count": 3,
   "metadata": {},
   "outputs": [],
   "source": [
    "from nltk.corpus import stopwords\n",
    "import string\n",
    "\n",
    "def clean_file(file):\n",
    "    tokens = file.split()                                 # split into tokens on whitespace\n",
    "    \n",
    "    table = str.maketrans('' , '', string.punctuation)    # remove punctuation\n",
    "    tokens = [w.translate(table) for w in tokens]\n",
    "    \n",
    "    tokens = [word for word in tokens if word.isalpha()]  # remove non-alphabetic tokens\n",
    "    \n",
    "    set_of_stop_words = set(stopwords.words('english'))   # remove stop words\n",
    "    tokens = [word for word in tokens if not word in set_of_stop_words]\n",
    "    \n",
    "    tokens = [word for word in tokens if len(word) > 1]   # remove tokens of length <= 1\n",
    "    \n",
    "    return tokens"
   ]
  },
  {
   "cell_type": "code",
   "execution_count": 4,
   "metadata": {},
   "outputs": [
    {
     "name": "stdout",
     "output_type": "stream",
     "text": [
      "\n",
      "************************************************PRE CLEANING(ORIGINAL TEXT)**********************************************\n",
      "\n",
      "plot : derek zoolander is a male model . \n",
      "he is also very dumb and impressionable . \n",
      "for that reason , he is secretly hired and trained ( so secret , that even he doesn't know about it ) by an underground fashion syndicate to assassinate the prime minister of malaysia , who wants to abolish child labor in his country . \n",
      "will zoolander fulfill the dirty deed ? \n",
      "will zoolander ever grace the world his new \" look \" ? \n",
      "is this a funny movie ? \n",
      "find out below . . . \n",
      "critique : there's a place in our world for \" stupid comedies \" . \n",
      "films which don't pretend to take themselves seriously , are based on idiotic premises and filled with dumb jokes . \n",
      "there's also a time for them and many would argue that this difficult period of our history , might be an ideal circumstance during which to \" relax \" by watching something so completely frivolous . \n",
      "well , if you're in the mood for some seriously mindless entertainment , ben stiller and his cast of many have assembled one of the more original dumb comedies in some time . \n",
      "of course , comedies as such are usually very subjective and i could see how some will see this film simply as stupid and unfunny , while others will grant them the \" stupid \" , but consider it funny instead . \n",
      "i personally enjoyed it for the most part , cracked up loudly during a couple of specific sequences and loved the derek zoolander character and the unrestrained whipping they released upon the fashion industry . \n",
      "snap ! \n",
      "it was also nice to see several real-life models with small roles in the movie , not taking themselves too seriously . \n",
      "and if you're the type of person who likes celebrity cameos in films , well , don't look any further because dozens of famous faces show up here including vince vaughn , billy zane , winona ryder , christian slater , david duchovny , natalie portman and many , many others . \n",
      "i especially liked andy dick's complete make-over as the masseuse . \n",
      "hi-larious ! \n",
      "but with all films of this type , there is bound to be some stuff that simply doesn't work . \n",
      "a few particulars which didn't strike my fancy included the bulimia and \" orgy \" sequence with christine taylor , the break-dance fighting , and i also never get why they use real countries in plots like this ( why not just \" make up \" a country , instead of zeroing in on a certain people ? ) . \n",
      "i also could have done with less of the taylor character in general , since she wasn't all that interesting and seemed to slow things down every now and then ( more zoolander , dude ! ) . \n",
      "but those few missteps were nothing compared to some of the more memorable scenes which definitely did work for me ! \n",
      "i almost pissed myself during the \" gas station \" disaster , absolutely adored the \" walk-off \" contest ( with david bowie as the judge , no less ) and appreciated many of zoolander's moronic one-liners ( \" i was a merman . . . a \n",
      "merman ! ! \" ) . \n",
      "and i dare you to get his \" monkey \" photo shoot out of your head after seeing this movie ( \" you're a monkey , derek . . . a \n",
      "monkey ! \" ) \n",
      "i also really liked the soundtrack and the pace of the film , both of which zipped and zagged , and established a nice rhythm to it all . \n",
      "again , it's to note that this movie is dumb and not for everyone , but my guess is that if you laughed at the trailer , you will likely enjoy many of the quips in the actual picture as well . \n",
      "if you thought the trailer was dumb , skip this dodo bird and go rent austin powers again or something , a film from which there is an obvious influence here . \n",
      "blue steel , baby . . . yeah ! ! ! \n",
      "where's joblo coming from ? \n",
      "austin powers ( 7/10 ) - austin powers 2 ( 7/10 ) - deuce bigalow ( 7/10 ) - dude , where's my car ( 7/10 ) - freddy got fingered ( 5/10 ) - jay & silent bob strike back ( 8/10 ) - joe dirt ( 5/10 ) - meet the parents ( 8/10 ) - say it isn't so ( 3/10 ) \n",
      "\n",
      "*************************************************POST CLEANING(TOKENS)***************************************************\n",
      "\n",
      "['plot', 'derek', 'zoolander', 'male', 'model', 'also', 'dumb', 'impressionable', 'reason', 'secretly', 'hired', 'trained', 'secret', 'even', 'doesnt', 'know', 'underground', 'fashion', 'syndicate', 'assassinate', 'prime', 'minister', 'malaysia', 'wants', 'abolish', 'child', 'labor', 'country', 'zoolander', 'fulfill', 'dirty', 'deed', 'zoolander', 'ever', 'grace', 'world', 'new', 'look', 'funny', 'movie', 'find', 'critique', 'theres', 'place', 'world', 'stupid', 'comedies', 'films', 'dont', 'pretend', 'take', 'seriously', 'based', 'idiotic', 'premises', 'filled', 'dumb', 'jokes', 'theres', 'also', 'time', 'many', 'would', 'argue', 'difficult', 'period', 'history', 'might', 'ideal', 'circumstance', 'relax', 'watching', 'something', 'completely', 'frivolous', 'well', 'youre', 'mood', 'seriously', 'mindless', 'entertainment', 'ben', 'stiller', 'cast', 'many', 'assembled', 'one', 'original', 'dumb', 'comedies', 'time', 'course', 'comedies', 'usually', 'subjective', 'could', 'see', 'see', 'film', 'simply', 'stupid', 'unfunny', 'others', 'grant', 'stupid', 'consider', 'funny', 'instead', 'personally', 'enjoyed', 'part', 'cracked', 'loudly', 'couple', 'specific', 'sequences', 'loved', 'derek', 'zoolander', 'character', 'unrestrained', 'whipping', 'released', 'upon', 'fashion', 'industry', 'snap', 'also', 'nice', 'see', 'several', 'reallife', 'models', 'small', 'roles', 'movie', 'taking', 'seriously', 'youre', 'type', 'person', 'likes', 'celebrity', 'cameos', 'films', 'well', 'dont', 'look', 'dozens', 'famous', 'faces', 'show', 'including', 'vince', 'vaughn', 'billy', 'zane', 'winona', 'ryder', 'christian', 'slater', 'david', 'duchovny', 'natalie', 'portman', 'many', 'many', 'others', 'especially', 'liked', 'andy', 'dicks', 'complete', 'makeover', 'masseuse', 'hilarious', 'films', 'type', 'bound', 'stuff', 'simply', 'doesnt', 'work', 'particulars', 'didnt', 'strike', 'fancy', 'included', 'bulimia', 'orgy', 'sequence', 'christine', 'taylor', 'breakdance', 'fighting', 'also', 'never', 'get', 'use', 'real', 'countries', 'plots', 'like', 'make', 'country', 'instead', 'zeroing', 'certain', 'people', 'also', 'could', 'done', 'less', 'taylor', 'character', 'general', 'since', 'wasnt', 'interesting', 'seemed', 'slow', 'things', 'every', 'zoolander', 'dude', 'missteps', 'nothing', 'compared', 'memorable', 'scenes', 'definitely', 'work', 'almost', 'pissed', 'gas', 'station', 'disaster', 'absolutely', 'adored', 'walkoff', 'contest', 'david', 'bowie', 'judge', 'less', 'appreciated', 'many', 'zoolanders', 'moronic', 'oneliners', 'merman', 'merman', 'dare', 'get', 'monkey', 'photo', 'shoot', 'head', 'seeing', 'movie', 'youre', 'monkey', 'derek', 'monkey', 'also', 'really', 'liked', 'soundtrack', 'pace', 'film', 'zipped', 'zagged', 'established', 'nice', 'rhythm', 'note', 'movie', 'dumb', 'everyone', 'guess', 'laughed', 'trailer', 'likely', 'enjoy', 'many', 'quips', 'actual', 'picture', 'well', 'thought', 'trailer', 'dumb', 'skip', 'dodo', 'bird', 'go', 'rent', 'austin', 'powers', 'something', 'film', 'obvious', 'influence', 'blue', 'steel', 'baby', 'yeah', 'wheres', 'joblo', 'coming', 'austin', 'powers', 'austin', 'powers', 'deuce', 'bigalow', 'dude', 'wheres', 'car', 'freddy', 'got', 'fingered', 'jay', 'silent', 'bob', 'strike', 'back', 'joe', 'dirt', 'meet', 'parents', 'say', 'isnt']\n",
      "*************************************************************************************************************************\n",
      "\n"
     ]
    }
   ],
   "source": [
    "# an example to understand the effects of load_file and clean_file methods\n",
    "\n",
    "filename = 'Data/Training Data/pos/cv034_29647.txt'\n",
    "text = load_file(filename)\n",
    "tokens = clean_file(text)\n",
    "\n",
    "print(\"\\n************************************************PRE CLEANING(ORIGINAL TEXT)**********************************************\\n\")\n",
    "print(text)\n",
    "print(\"*************************************************POST CLEANING(TOKENS)***************************************************\\n\")\n",
    "print(tokens)\n",
    "print(\"*************************************************************************************************************************\\n\")"
   ]
  },
  {
   "cell_type": "markdown",
   "metadata": {},
   "source": [
    "## A.3. Define a Vocabulary\n",
    "\n",
    "It is necessary to define a vocabulary of words to vectorise the document of reviews. The below method defines a vocabulary of words and maintains the count of the occurrence of each word in the vocabulary."
   ]
  },
  {
   "cell_type": "code",
   "execution_count": 5,
   "metadata": {},
   "outputs": [
    {
     "name": "stdout",
     "output_type": "stream",
     "text": [
      "The length of the vocab:  44276\n",
      "\n",
      "Top 10 frequently occuring words: [('film', 7983), ('one', 4946), ('movie', 4826), ('like', 3201), ('even', 2262), ('good', 2080), ('time', 2041), ('story', 1907), ('films', 1873), ('would', 1844)]\n"
     ]
    }
   ],
   "source": [
    "from os import listdir\n",
    "from collections import Counter\n",
    "\n",
    "def add_words_to_vocab_and_update_count(directory, vocab):\n",
    "    for filename in listdir(directory):\n",
    "        filepath = directory + '/' + filename\n",
    "        text = load_file(filepath)  # load the file\n",
    "        tokens = clean_file(text)   # clean the file\n",
    "        vocab.update(tokens)        # update count of the word in the vocab\n",
    "    \n",
    "vocab = Counter()   # to hold tokens and their respective counts. Eg: [('tok1',tok1_count), ('tok2',tok2_count),...]\n",
    "\n",
    "add_words_to_vocab_and_update_count('Data/Training Data/pos', vocab)\n",
    "add_words_to_vocab_and_update_count('Data/Training Data/neg', vocab)\n",
    "\n",
    "print('The length of the vocab: ',len(vocab))\n",
    "print('\\nTop 10 frequently occuring words:',vocab.most_common(10))"
   ]
  },
  {
   "cell_type": "markdown",
   "metadata": {},
   "source": [
    "**Intuitively** we can say that most infrequently occuring words may not contribute much to the training of model. So only those words occuring more than two times are considered in the token list. \n",
    "\n",
    "Note: It is not a hard rule to use the threshold of two. "
   ]
  },
  {
   "cell_type": "code",
   "execution_count": 6,
   "metadata": {},
   "outputs": [
    {
     "name": "stdout",
     "output_type": "stream",
     "text": [
      "Total Tokens (Before):  44276\n",
      "Total Tokens (After) :  25767\n"
     ]
    }
   ],
   "source": [
    "min_occurrence = 2\n",
    "\n",
    "print('Total Tokens (Before): ',len(vocab))\n",
    "tokens = [token for token,count in vocab.items() if count >= min_occurrence]    # list of tokens with count >= 2\n",
    "print('Total Tokens (After) : ',len(tokens))\n"
   ]
  },
  {
   "cell_type": "code",
   "execution_count": 7,
   "metadata": {},
   "outputs": [],
   "source": [
    "def save_list(lines, filename):\n",
    "    data = '\\n'.join(lines)\n",
    "    file = open(filename, 'w')\n",
    "    file.write(data)\n",
    "    file.close()\n",
    "\n",
    "save_list(tokens, 'vocab.txt')   # the vocabulary is saved in a text file for later use"
   ]
  },
  {
   "cell_type": "markdown",
   "metadata": {},
   "source": [
    "# B. BAG OF WORDS REPRESENTATION\n",
    "\n",
    "This stage focuses on preparing the data for the training model. It involves following steps:\n",
    "\n",
    "* Converting reviews to lines of tokens.\n",
    "* Encoding reviews with a bag-of-words model representation.\n",
    "\n",
    "## B.1. Reviews to lines of tokens (Reviews -> Tokens)\n",
    "\n",
    "Here, each review file is loaded to memory and cleaned for tokens. The obtained tokens are further cleaned by retaining only those tokens that are also in vocabulary we defined previously. The resultant tokens are joined by whitespace. \n",
    "**reviews_to_lines** method returns the list of reviews in a specified location. For example, let's say we have 100 reviews in a folder. Then the **reviews_to_lines** method returns a list of length 100. Each index of the list stores a single review(cleaned review) with the words/tokens separated by whitespace."
   ]
  },
  {
   "cell_type": "code",
   "execution_count": 8,
   "metadata": {},
   "outputs": [],
   "source": [
    "def reviews_to_lines(directory, vocab):\n",
    "    lines = []\n",
    "    for filename in listdir(directory):\n",
    "        filepath = directory + filename\n",
    "        text = load_file(filepath)  # load the file\n",
    "        tokens = clean_file(text)   # clean the file\n",
    "        tokens = [word for word in tokens if word in vocab]   # filter by vocab\n",
    "        line = ' '.join(tokens)     # single review -> tokens -> filter -> single line with tokens spaced by whitespace\n",
    "        lines.append(line)          # list of reviews. Single review is stored at each index of the list\n",
    "    return lines\n",
    "\n",
    "# load the vocabulary\n",
    "vocab = load_file(\"vocab.txt\")\n",
    "vocab = vocab.split()\n",
    "vocab = set(vocab)\n",
    "\n",
    "# Training Data : reviews to lines\n",
    "train_pos_reviews_to_lines = reviews_to_lines(train_set_pos_path, vocab)\n",
    "train_neg_reviews_to_lines = reviews_to_lines(train_set_neg_path, vocab)\n",
    "\n",
    "# Test Data : reviews to lines\n",
    "test_pos_reviews_to_lines = reviews_to_lines(test_set_pos_path, vocab)\n",
    "test_neg_reviews_to_lines = reviews_to_lines(test_set_neg_path, vocab)\n",
    "\n",
    "# Total training and testing data\n",
    "train_reviews = train_pos_reviews_to_lines + train_neg_reviews_to_lines\n",
    "test_reviews  = test_pos_reviews_to_lines  + test_neg_reviews_to_lines"
   ]
  },
  {
   "cell_type": "markdown",
   "metadata": {},
   "source": [
    "## B.2. Reviews to Bag-Of-Words Vectors (Reviews -> Tokens -> Vectors)\n",
    "\n",
    "The data that is fed to the training model should be encoded into numerical values and all the training examples should be of uniform length. So far what we have is the training and test data in the texual form and of non-uniform length. We use the Bag-Of-Words model to encode the data in order to make it suitable for training/learning. In this model each document/review is transformed to an encoded vector where each word/token is assigned a score. The length of the vector corresponds to the length of the vocabulary. There are different methods for scoring the words like **freq, binary, count** and **tfidf**. In this project we use 'freq' for scoring the words. Let's understand how it works.\n",
    "\n",
    "**Example:** vocab = {this, that, is, mine, not, cat, dog} and text = \"This this is mine\". \n",
    "\n",
    "The encoded text using the 'freq' scoring method = [0.5, 0.0, 0.25, 0.25, 0.0, 0.0, 0.0]\n",
    "\n",
    "* the number of words/tokens in the text is 4.\n",
    "* the length of the vector = length of the vocabulary = 7\n",
    "* score of 'this' = (total occurence of 'this' in the text) / (total words in the text) = 2/4 = 0.5\n",
    "* the score of 'this' is stored in the index corresponding to 'this' in the vector( for now, we can assume it to be in the same index as in vocabulary).\n",
    "* the words 'that', 'not', 'cat', 'dog' do not occur in the text so their corresponding indexes in the vector is assigned a score of zero(because 0/4 = 0)\n",
    "\n",
    "We use **Tokenizer** class provided by Keras to achieve this."
   ]
  },
  {
   "cell_type": "code",
   "execution_count": 9,
   "metadata": {},
   "outputs": [
    {
     "name": "stderr",
     "output_type": "stream",
     "text": [
      "Using TensorFlow backend.\n"
     ]
    },
    {
     "name": "stdout",
     "output_type": "stream",
     "text": [
      " Shape of xtrain:  (1800, 25768)\n",
      " Shape of xtest :  (200, 25768)\n"
     ]
    }
   ],
   "source": [
    "from keras.preprocessing.text import Tokenizer\n",
    "\n",
    "def prepare_data(train_reviews, test_reviews, mode):\n",
    "    tokenizer = Tokenizer()\n",
    "    tokenizer.fit_on_texts(train_reviews) # fit the tokenizer on the texts\n",
    "\n",
    "    xtrain = tokenizer.texts_to_matrix(train_reviews, mode = mode)  # encode the training set\n",
    "    xtest  = tokenizer.texts_to_matrix(test_reviews, mode = mode)   # encode the test set\n",
    "\n",
    "    return xtrain, xtest\n",
    "\n",
    "xtrain, xtest = prepare_data(train_reviews, test_reviews, mode = 'freq')\n",
    "\n",
    "print(\" Shape of xtrain: \", xtrain.shape)\n",
    "print(\" Shape of xtest : \", xtest.shape)"
   ]
  },
  {
   "cell_type": "markdown",
   "metadata": {},
   "source": [
    "With the shape of the xtrain and xtest we can understand the following:\n",
    "\n",
    "* each review is encoded in the vector of 25768 items/values.\n",
    "* there are total of 1800 training examples and 200 test examples.\n",
    "\n",
    "Now, we need the class labels for these reviews. 'Positive' is encoded as 0 and 'Negative' is encoded as 1. Thus, we create ytrain and ytest as shown below."
   ]
  },
  {
   "cell_type": "code",
   "execution_count": 10,
   "metadata": {},
   "outputs": [],
   "source": [
    "import numpy as np\n",
    "\n",
    "train_pos_limit = int(xtrain.shape[0]/2) # upper limit of pos training reviews\n",
    "train_neg_limit = xtrain.shape[0]        # upper limit of neg training reviews\n",
    "test_pos_limit  = int(xtest.shape[0]/2)  # upper limit of pos test reviews\n",
    "test_neg_limit  = xtest.shape[0]         # upper limit of neg test reviews \n",
    "\n",
    "ytrain = np.array([0 for i in range(0, train_pos_limit)] + [1 for i in range(train_pos_limit, train_neg_limit)])\n",
    "ytest  = np.array([0 for i in range(0, test_pos_limit)]  + [1 for i in range(test_pos_limit, test_neg_limit)])\n"
   ]
  },
  {
   "cell_type": "markdown",
   "metadata": {},
   "source": [
    "# C. Sentiment Analysis Model (PyTorch)\n",
    "\n",
    "In this project we develop a multi-layered perceptron to predict the sentiment/emotion of the reviews."
   ]
  },
  {
   "cell_type": "code",
   "execution_count": 11,
   "metadata": {},
   "outputs": [],
   "source": [
    "import torch \n",
    "\n",
    "# converting numpy arrays to tensors\n",
    "\n",
    "xtrain = torch.from_numpy(xtrain)\n",
    "xtrain = xtrain.type(torch.float)\n",
    "\n",
    "xtest = torch.from_numpy(xtest)\n",
    "xtest = xtest.type(torch.float)\n",
    "\n",
    "ytrain = torch.from_numpy(ytrain) # torch.Size([1800])\n",
    "ytrain = ytrain.view(-1,1)        # torch.Size([1800, 1])\n",
    "ytrain = ytrain.type(torch.float)"
   ]
  },
  {
   "cell_type": "code",
   "execution_count": 12,
   "metadata": {},
   "outputs": [],
   "source": [
    "input_size = xtrain.size(1)\n",
    "hidden_size = 50\n",
    "output_size = 1\n",
    "num_epochs = 25\n",
    "learning_rate = 0.001"
   ]
  },
  {
   "cell_type": "code",
   "execution_count": 13,
   "metadata": {},
   "outputs": [],
   "source": [
    "import torch.nn as nn\n",
    "\n",
    "class Net(nn.Module):\n",
    "    \n",
    "    def __init__(self):\n",
    "        super().__init__()\n",
    "        self.fc1 = nn.Linear(input_size, hidden_size)\n",
    "        self.relu = nn.ReLU()\n",
    "        self.fc2 = nn.Linear(hidden_size, output_size)\n",
    "        self.sigmoid = nn.Sigmoid()\n",
    "        \n",
    "    def forward(self, xtrain):\n",
    "        y = self.fc1(xtrain)\n",
    "        y = self.relu(y)\n",
    "        y = self.fc2(y)\n",
    "        y = self.sigmoid(y)     \n",
    "        return y\n",
    "    \n",
    "net = Net()\n",
    "opt = torch.optim.Adam(net.parameters(), lr=learning_rate)\n",
    "criterion = nn.BCELoss()"
   ]
  },
  {
   "cell_type": "code",
   "execution_count": 14,
   "metadata": {},
   "outputs": [
    {
     "name": "stdout",
     "output_type": "stream",
     "text": [
      "epoch = 0/25, loss = 0.052988581359386444\n",
      "epoch = 1/25, loss = 0.05649341270327568\n",
      "epoch = 2/25, loss = 0.04446496069431305\n",
      "epoch = 3/25, loss = 0.0415322482585907\n",
      "epoch = 4/25, loss = 0.041134681552648544\n",
      "epoch = 5/25, loss = 0.0424233116209507\n",
      "epoch = 6/25, loss = 0.04483966901898384\n",
      "epoch = 7/25, loss = 0.04829555004835129\n",
      "epoch = 8/25, loss = 0.05203211307525635\n",
      "epoch = 9/25, loss = 0.055232200771570206\n",
      "epoch = 10/25, loss = 0.05616191402077675\n",
      "epoch = 11/25, loss = 0.053085245192050934\n",
      "epoch = 12/25, loss = 0.045952897518873215\n",
      "epoch = 13/25, loss = 0.03638116270303726\n",
      "epoch = 14/25, loss = 0.026192672550678253\n",
      "epoch = 15/25, loss = 0.017530256882309914\n",
      "epoch = 16/25, loss = 0.010714988224208355\n",
      "epoch = 17/25, loss = 0.00620630057528615\n",
      "epoch = 18/25, loss = 0.0034002589527517557\n",
      "epoch = 19/25, loss = 0.0018232984002679586\n",
      "epoch = 20/25, loss = 0.0009501320309937\n",
      "epoch = 21/25, loss = 0.0004938868223689497\n",
      "epoch = 22/25, loss = 0.0002534114464651793\n",
      "epoch = 23/25, loss = 0.00012815819354727864\n",
      "epoch = 24/25, loss = 6.532882252940908e-05\n"
     ]
    }
   ],
   "source": [
    "cost = []\n",
    "\n",
    "for epoch in range(num_epochs):\n",
    "    \n",
    "    for i, example in enumerate(xtrain):  \n",
    "        \n",
    "        example = example.reshape(-1, input_size)\n",
    "                \n",
    "        # Forward pass\n",
    "        outputs = net(example)\n",
    "        loss = criterion(outputs[0], ytrain[i])\n",
    "        \n",
    "        # Backward and optimize\n",
    "        opt.zero_grad()\n",
    "        loss.backward()\n",
    "        opt.step()\n",
    "      \n",
    "    print(\"epoch = {}/{}, loss = {}\".format(epoch, num_epochs, loss.item()))\n",
    "    cost.append(loss.item())"
   ]
  },
  {
   "cell_type": "code",
   "execution_count": 15,
   "metadata": {},
   "outputs": [
    {
     "data": {
      "text/plain": [
       "[<matplotlib.lines.Line2D at 0x7f248b56eef0>]"
      ]
     },
     "execution_count": 15,
     "metadata": {},
     "output_type": "execute_result"
    },
    {
     "data": {
      "image/png": "[encoded data removed]",
      "text/plain": [
       "<Figure size 432x288 with 1 Axes>"
      ]
     },
     "metadata": {
      "needs_background": "light"
     },
     "output_type": "display_data"
    }
   ],
   "source": [
    "import matplotlib.pyplot as plt\n",
    "%matplotlib inline\n",
    "\n",
    "plt.plot(cost)"
   ]
  }
 ],
 "metadata": {
  "kernelspec": {
   "display_name": "Python 3",
   "language": "python",
   "name": "python3"
  },
  "language_info": {
   "codemirror_mode": {
    "name": "ipython",
    "version": 3
   },
   "file_extension": ".py",
   "mimetype": "text/x-python",
   "name": "python",
   "nbconvert_exporter": "python",
   "pygments_lexer": "ipython3",
   "version": "3.7.1"
  }
 },
 "nbformat": 4,
 "nbformat_minor": 2
}
